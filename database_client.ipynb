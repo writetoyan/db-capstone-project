{
 "cells": [
  {
   "cell_type": "code",
   "execution_count": 9,
   "id": "3c9415e3-bfc6-4b64-a459-74de2fa95af7",
   "metadata": {},
   "outputs": [
    {
     "name": "stdout",
     "output_type": "stream",
     "text": [
      "('Bookings',)\n",
      "('Customer',)\n",
      "('DeliveryStatus',)\n",
      "('Employee',)\n",
      "('Menu',)\n",
      "('MenuItems',)\n",
      "('OrderView',)\n",
      "('Orders',)\n",
      "('OrdersView',)\n",
      "(1, 'Alex', '12 street alex', 'New York', '29839898', 'Alex@gmail.com', 1, datetime.datetime(2025, 7, 12, 0, 0), 3, 250, 1, 1, 1)\n",
      "(1, 'Alex', '12 street alex', 'New York', '29839898', 'Alex@gmail.com', 2, datetime.datetime(2025, 7, 12, 0, 0), 2, 150, 2, 1, 1)\n",
      "(2, 'Aurelien', '12 street aurelien', 'New York', '29875898', 'Aurelien@gmail.com', 3, datetime.datetime(2028, 8, 19, 0, 0), 1, 350, 2, 2, 2)\n"
     ]
    }
   ],
   "source": [
    "import mysql.connector as connector\n",
    "\n",
    "connection = connector.connect(user=\"\", password=\"\", db=\"LittleLemonDB\")\n",
    "\n",
    "cursor = connection.cursor()\n",
    "\n",
    "cursor.execute(\"SHOW TABLES\")\n",
    "\n",
    "db = cursor.fetchall()\n",
    "for i in db:\n",
    "    print(i)\n",
    "\n",
    "\n",
    "customer_query = \"\"\"SELECT * FROM Customer INNER JOIN\n",
    "Orders ON Customer.CustomerID = Orders.CustomerID \n",
    "WHERE Orders.TotalCost >= 60;\n",
    "\"\"\"\n",
    "\n",
    "cursor.execute(customer_query)\n",
    "\n",
    "results = cursor.fetchall()\n",
    "for result in results:\n",
    "    print(result)\n"
   ]
  },
  {
   "cell_type": "code",
   "execution_count": null,
   "id": "601ead9a-ed48-49bf-acbe-56abc8682953",
   "metadata": {},
   "outputs": [],
   "source": []
  }
 ],
 "metadata": {
  "kernelspec": {
   "display_name": "Python 3 (ipykernel)",
   "language": "python",
   "name": "python3"
  },
  "language_info": {
   "codemirror_mode": {
    "name": "ipython",
    "version": 3
   },
   "file_extension": ".py",
   "mimetype": "text/x-python",
   "name": "python",
   "nbconvert_exporter": "python",
   "pygments_lexer": "ipython3",
   "version": "3.10.12"
  }
 },
 "nbformat": 4,
 "nbformat_minor": 5
}
